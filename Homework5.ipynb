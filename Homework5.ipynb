{
 "cells": [
  {
   "cell_type": "markdown",
   "id": "89d0f270-e012-4d95-850d-fbf05fc42281",
   "metadata": {},
   "source": [
    "## Hausaufgabe 5 \n",
    "\n",
    "### Abgabe via studip bis spätestens 19.06. 12:00 Uhr (zur VL)! \n",
    "### Verteidigung 22.06. 08:00-10:00 Uhr (Timeslots werden vorher bekannt gegeben)!\n",
    "\n",
    "\n",
    "- In jedem Blatt kann maximal 5% Bonus erreicht werden, falls:\n",
    "    - Mind. 60% des Arbeitsblatts korrekt bearbeitet wurde und\n",
    "    - das Arbeitsblatt erfolgreich verteidigt (den Tutoren erklärt) wurde.\n",
    "    - Bonus % = 5% * Teil der Hausaufgabe erfolgreich verteidigt\n",
    "    - Erfolgreiche Verteidigung: Ein von uns ausgewähltes Team-Mitglied erklärt die Lösung und beantwortet Fragen dazu.\n",
    "    - ChatGPT und andere Hilfsmittel dürfen verwendet werden, müssen aber zitiert werden.\n",
    "    - Code muss ohne Hilfsmittel erläutert werden\n",
    "- Wir bewerten nicht nur die Korrektheit der Ergebnisse, sondern auch ob der Code effizient, einfach zu verstehen, aufgeräumt und gut dokumentiert ist.\n",
    "- Geben Sie eine Lösung pro Gruppe ab und packen Sie Ihre Lösung in eine Zip-Datei mit dem Namen und Matrikelnummer eines Mitglieds. Also z.B. `mustermann_12345678.zip` "
   ]
  },
  {
   "cell_type": "markdown",
   "id": "c98c6db8-b47c-499d-a5a3-a57cf918f0a0",
   "metadata": {},
   "source": [
    "## Exercise 1\n",
    "**Achtung:** Manche Kommandos sind interaktiv. Daher empfehlen wir alle Anweisungen in einem separaten Terminal auszuführen und anschließend hier zu dokumentieren. \n",
    "\n",
    "**Achtung:** Wir wollen hier das Verwalten von Remote-Repositories, inklusive Forks und Pull-Requests üben. Da es nicht möglich ist sein eigenes Repository zu forken, müssen Sie entweder zwei Benutzer Konten haben (arbeitet in Gruppen) oder Sie legen das Remote-Repository in einer Organisation an (siehe [hier](https://docs.github.com/en/organizations/collaborating-with-groups-in-organizations/creating-a-new-organization-from-scratch)) und forken das Repository dann mit ihrem eigenen Account.  \n",
    "\n",
    "Die Finale Abgabe sollte das gesamte Git-Repository (den Ordner inklusive des versteckten Unterordners `.git` und den Link zu github) beinhalten, welches zeigt dass Sie alle Befehle korrekt ausgeführt haben."
   ]
  },
  {
   "cell_type": "markdown",
   "id": "f8e2ed09-bdc7-4846-812b-a90a6da9711e",
   "metadata": {},
   "source": [
    "#### a) [2.5%] \n",
    "- Erstellen Sie ein neues lokales Repository \n",
    "- Legen Sie die Dateien `mergesort.py` und `to_be_ignored.txt` in das Repository und commiten Sie sie."
   ]
  },
  {
   "cell_type": "code",
   "execution_count": null,
   "id": "e9ea1105",
   "metadata": {
    "vscode": {
     "languageId": "plaintext"
    }
   },
   "outputs": [],
   "source": [
    "mkdir ds5\n",
    "git init\n",
    "git add mergesort.py\n",
    "git add to_be_ignored.txt\n",
    "git commit -m \"Initialer Commit mit mergesort.py und to_be_ignored.txt\"\n"
   ]
  },
  {
   "cell_type": "markdown",
   "id": "23b63840-7c4d-40cd-9fe2-c51a869fc0ec",
   "metadata": {},
   "source": [
    "#### b) [5%]\n",
    "- Erstellen Sie eine `.gitignore` Datei (siehe [hier](https://github.com/github/gitignore) für Beispiele von nützlichen gitignore Vorlagen). \n",
    "- Fügen Sie `to_be_ignored.txt` zur `.gitignore` hinzu und entfernen Sie sie aus der Git-Historie."
   ]
  },
  {
   "cell_type": "code",
   "execution_count": null,
   "id": "62f99fbe",
   "metadata": {
    "vscode": {
     "languageId": "plaintext"
    }
   },
   "outputs": [],
   "source": [
    "echo \"to_be_ignored.txt\" > .gitignore\n",
    "git add .gitignore\n",
    "git commit -m \"Hinzufügen der .gitignore-Datei\"\n",
    "git filter-repo --path to_be_ignored.txt --invert-paths\n",
    "git reflog expire --expire=now --all\n",
    "git gc --prune=now --aggressive\n",
    "\n"
   ]
  },
  {
   "cell_type": "markdown",
   "id": "ab7a9d11-89eb-4716-8571-34766d4c976f",
   "metadata": {},
   "source": [
    "#### c) [15%]\n",
    "- Erstellen Sie einen neuen Branch\n",
    "- Bereinigen Sie die Datei `mergesort.py`, um die Regeln für sauberen Code zu befolgen, die wir in der Vorlesung aufgestellt haben. \n",
    "- Versuchen Sie auch, den Code zu verstehen (siehe z.B. [hier](https://www.happycoders.eu/de/algorithmen/mergesort/) für eine Erklärung des Algorithmus) und dokumentieren Sie den Code.\n",
    "- Seine Funktionalität sollte sich nicht ändern!\n",
    "- Es sollte mindestens 7 Punkte geben, die zu verbessern sind.\n",
    "- Commiten Sie Ihre Änderungen. "
   ]
  },
  {
   "cell_type": "code",
   "execution_count": null,
   "id": "75e295c5",
   "metadata": {
    "vscode": {
     "languageId": "plaintext"
    }
   },
   "outputs": [],
   "source": [
    "git branch mergesort_bereinigen\n",
    "git checkout cleanup-mergesort\n",
    "vim mergesort.py\n",
    "git status\n",
    "git add mergesort.py\n",
    "git commit -m \"Verbessere Lesbarkeit und Klarheit von mergesort.py\""
   ]
  },
  {
   "cell_type": "markdown",
   "id": "1c131abc-c1b0-4b97-ac37-04abad5f5e99",
   "metadata": {},
   "source": [
    "#### d) [5%]\n",
    "- Erstellen Sie ein neues Repository auf GitHub (machen Sie es public). \n",
    "- Richten Sie eine ssh-Verifizierung für Ihr GitHub-Konto ein. \n",
    "- Fügen Sie die ssh-Adresse Ihres Repositorys als neues remote Repository zu Ihrem lokalen Repository hinzu.  "
   ]
  },
  {
   "cell_type": "code",
   "execution_count": null,
   "id": "be3b9797",
   "metadata": {
    "vscode": {
     "languageId": "plaintext"
    }
   },
   "outputs": [],
   "source": [
    "\n",
    "\n",
    "ssh-keygen -t rsa -b 2048 -C \"<comment>\"\n",
    "git remote add origin git@github.com:Immop/Datascience5.git"
   ]
  },
  {
   "cell_type": "markdown",
   "id": "5a03706d-c986-48c9-9207-2ff59770b7f4",
   "metadata": {},
   "source": [
    "#### e) [2.5%]\n",
    "- Wechseln Sie zurück zum `main` Branch.\n",
    "- Pushen Sie in Ihr remote Repository"
   ]
  },
  {
   "cell_type": "code",
   "execution_count": null,
   "id": "fe7c6a6e",
   "metadata": {
    "vscode": {
     "languageId": "plaintext"
    }
   },
   "outputs": [],
   "source": [
    "git checkout master\n",
    "git push origin master\n",
    "\n",
    "\n"
   ]
  },
  {
   "cell_type": "markdown",
   "id": "6d91483e-0a00-4fba-958d-fea707fd47e2",
   "metadata": {},
   "source": [
    "#### f) [5%]\n",
    "- Ändern Sie den Plotting-Teil von `mergesort.py` so, dass er die in der Vorlesung festgelegten Standards widerspiegelt. (Versuchen Sie auch zu überlegen, was die beste Art Plot für diese Daten sein könnte.)\n",
    "- Commiten Sie es und pushen Sie es in das remote Repository."
   ]
  },
  {
   "cell_type": "code",
   "execution_count": null,
   "id": "f848a061",
   "metadata": {
    "vscode": {
     "languageId": "plaintext"
    }
   },
   "outputs": [],
   "source": [
    "vim mergesort.py\n",
    "git add mergesort.py\n",
    "git commit -m Update Plotting.py\""
   ]
  },
  {
   "cell_type": "markdown",
   "id": "3f4d7088-60b8-41b5-9806-114839f8e8cb",
   "metadata": {},
   "source": [
    "#### g) [2.5%]\n",
    " - Wechseln Sie zurück zum vorherigen Branch. \n",
    " - Erstellen Sie einen Fork des remote Repositorys auf GitHub. **Dies muss durch einen anderen Benutzer geschehen, falls das original Repository nicht zu einer Organisation gehört!**  \n",
    " - Fügen Sie den Fork als weiteres remote Repository zu Ihrem lokalen Repository hinzu. \n",
    " - Pushen Sie Ihren lokalen Branch in den Fork und erstellen Sie einen Pull-Request auf GitHub."
   ]
  },
  {
   "cell_type": "code",
   "execution_count": null,
   "id": "36d55c11",
   "metadata": {
    "vscode": {
     "languageId": "plaintext"
    }
   },
   "outputs": [],
   "source": [
    "git checkout mergesort_bereinigen\n",
    "git remote add fork git@github.com:ImmoP/Datascience5.git\n",
    "git push fork master"
   ]
  },
  {
   "cell_type": "markdown",
   "id": "6d9dbf98-3ea2-4b7f-8b8b-eb4526784c28",
   "metadata": {},
   "source": [
    "#### h) [10%]\n",
    "- Der Pull-Request sollte anzeigen, dass es Konflikte gibt. \n",
    "- Mergen Sie den `main`-Branch (lokal auf Ihrem Computer) in Ihren Feature-Branch ein (nicht umgekehrt!) und lösen Sie die Konflikte.\n",
    "- Pushen Sie Ihren Feature-Branch wieder in Ihren Fork und mergen Sie den Pull-Request."
   ]
  },
  {
   "cell_type": "code",
   "execution_count": null,
   "id": "2248a9a7",
   "metadata": {
    "vscode": {
     "languageId": "plaintext"
    }
   },
   "outputs": [],
   "source": [
    "\"This branch has conflicts that must be resolved\n",
    "Use the web editor or the  to resolve conflicts.\n",
    "Conflicting files\n",
    "mergesort.py\"\n",
    "git checkout mergesort_bereinigen\n",
    "git merge master\n",
    "git add mergersort.py\n",
    "git push origin mergesort_bereinigen"
   ]
  },
  {
   "cell_type": "markdown",
   "id": "8f690324-815f-4e2e-807b-3e6f87f483dd",
   "metadata": {},
   "source": [
    "#### i) [2.5%]\n",
    "- Wechseln Sie zurück zum \"main\"-Branch und pullen Sie aus dem remote Repository.\n",
    "- Löschen Sie den lokalen Feature-Branch (er ist ja bereits im main Branch)."
   ]
  },
  {
   "cell_type": "code",
   "execution_count": null,
   "id": "677abe5f",
   "metadata": {
    "vscode": {
     "languageId": "plaintext"
    }
   },
   "outputs": [],
   "source": [
    "git checkout master\n",
    "git pull origin master\n",
    "git branch -d mergesort_bereinigen\n"
   ]
  },
  {
   "cell_type": "markdown",
   "id": "d44e4b00-95cf-4be3-8b46-90d53bfad0aa",
   "metadata": {},
   "source": [
    "Zeigen Sie ihre Git-Historie an:"
   ]
  },
  {
   "cell_type": "code",
   "execution_count": null,
   "id": "b4db096d-eeaf-442e-8620-6b76bb4f33eb",
   "metadata": {},
   "outputs": [],
   "source": [
    "git log"
   ]
  },
  {
   "cell_type": "code",
   "execution_count": null,
   "id": "df389cb9-433b-4b1d-be8b-0e815d673a9c",
   "metadata": {},
   "outputs": [],
   "source": [
    "commit f5773321276a0e7335c3afc79e8c49e7e9c7158d (HEAD -> master, origin/master)\n",
    "Merge: 69dd02c 897c800\n",
    "Author: ImmoP <62303181+ImmoP@users.noreply.github.com>\n",
    "Date:   Sun Jun 18 21:16:40 2023 +0200\n",
    "\n",
    "    Merge pull request #1 from ImmoP/mergesort_bereinigen\n",
    "\n",
    "    Verbessere Lesbarkeit und Klarheit von mergesort.py\n",
    "\n",
    "commit 897c80038f83a25318e39fcde8e2f50d89aa49fe (origin/mergesort_bereinigen, fork/mergesort_bereinigen)\n",
    "Merge: 703d3eb 69dd02c\n",
    "Author: Impri94 <Immo.Primus@gmx.de>\n",
    "Date:   Sun Jun 18 20:19:26 2023 +0200\n",
    "\n",
    "    Resolved merge conflicts\n",
    "\n",
    "commit 69dd02c8e76d24f9c3851fbaec08bad5ce4e7ad3 (fork/master)\n",
    "Author: Impri94 <Immo.Primus@gmx.de>\n",
    "Date:   Sun Jun 18 19:45:03 2023 +0200\n",
    "\n",
    "    Verbessere Lesbarkeit und Klarheit von mergesort.py\n",
    "\n",
    "commit a02f225a268254b9dff3dc652c0dd7f91f028add\n",
    "Author: Impri94 <Immo.Primus@gmx.de>\n",
    "Date:   Sun Jun 18 19:38:37 2023 +0200\n",
    "\n",
    "    Update mergesort.py with code improvements\n",
    "\n",
    "commit 703d3ebce857701e08574d6bfb0f7db4469816a9\n",
    "Author: Impri94 <Immo.Primus@gmx.de>\n",
    "Date:   Sun Jun 18 19:21:56 2023 +0200\n",
    "\n",
    "    Verbessere Lesbarkeit und Klarheit von mergesort.py\n",
    "\n",
    "commit 68906dd7ab2f5f3537b771f07e65e12960e3b21f\n",
    "Author: Impri94 <Immo.Primus@gmx.de>\n",
    "Date:   Sun Jun 18 18:41:27 2023 +0200\n",
    "\n",
    "    Hinzufügen der .gitignore-Datei\n",
    "\n",
    "commit 87e75e6b60d37202a6325c49f659fe94a1ebee38\n",
    "Author: Impri94 <Immo.Primus@gmx.de>\n",
    "Date:   Sun Jun 18 18:35:49 2023 +0200\n",
    "\n",
    "    Initialer Commit mit mergesort.py und to_be_ignored.txt"
   ]
  },
  {
   "cell_type": "markdown",
   "id": "2932b317-11a9-4cfd-9757-519c0cd4a396",
   "metadata": {},
   "source": [
    "## Exercise 2"
   ]
  },
  {
   "cell_type": "markdown",
   "id": "39e88314-ea52-4e2a-a106-41e006e64b29",
   "metadata": {},
   "source": [
    "Betrachten Sie die folgende Aufgabe:\n",
    "\n",
    "Gegeben eine Array von Intergern in dem alle Elemente außer eins genau zweimal vorkommen, finden Sie das einzelne Element.\n",
    "\n",
    "Beispiel: `[1,2,3,4,3,1,2]`\n",
    "\n",
    "Das einzelne Element ist: `4`\n",
    "\n",
    "Sie können annehmen dass das Array ungerade Länge hat und es nur eine Element gibt dass nur genau einmal vorkommt.\n",
    "\n",
    "Hinweis: Die folgenden Aufgaben müssen nicht notwendigerweise in Reihenfolge bearbeitet werden.\n"
   ]
  },
  {
   "cell_type": "markdown",
   "id": "1be8bfc4-a31b-49ee-8ceb-f8c8daa863de",
   "metadata": {},
   "source": [
    "#### a) [15%] Schreiben Sie test-Fälle für die oben beschrieben Aufgabe. \n",
    "(Mind. 5 Testfälle nötig!) \n",
    "Denken Sie an mögliche Randfälle und ungültige Eingaben.\n",
    "\n",
    "**Benutzen sie `pytest` und schreiben Sie die Tests in separate Dateien.**"
   ]
  },
  {
   "cell_type": "code",
   "execution_count": null,
   "id": "53df128b-91fe-4fe6-bbc0-b393df3e2086",
   "metadata": {
    "tags": []
   },
   "outputs": [],
   "source": [
    "import pytest\n"
   ]
  },
  {
   "cell_type": "code",
   "execution_count": null,
   "id": "0365e449-9020-4ecf-9af3-0d40080d7620",
   "metadata": {
    "tags": []
   },
   "outputs": [],
   "source": [
    "def test_single_element_odd_length():\n",
    "    assert find_single_element([1, 2, 3, 4, 3, 1, 2]) == 4"
   ]
  },
  {
   "cell_type": "code",
   "execution_count": null,
   "id": "45140d93-532a-46e3-bb80-bfd5fc4c9823",
   "metadata": {
    "tags": []
   },
   "outputs": [],
   "source": [
    "def test_single_element_even_length():\n",
    "    assert find_single_element([2, 4, 2, 4, 6, 6, 8]) == 8"
   ]
  },
  {
   "cell_type": "code",
   "execution_count": null,
   "id": "cf5e9b5f-3096-448d-8d86-1811babe1347",
   "metadata": {
    "tags": []
   },
   "outputs": [],
   "source": [
    "def test_single_element_negative_numbers():\n",
    "    assert find_single_element([-1, -2, -1, -2, -3, -3, -4]) == -4"
   ]
  },
  {
   "cell_type": "code",
   "execution_count": null,
   "id": "3a7e402c-6387-4bda-9a8d-d50c6c33da61",
   "metadata": {
    "tags": []
   },
   "outputs": [],
   "source": [
    "def test_single_element_single_item():\n",
    "    assert find_single_element([5]) == 5"
   ]
  },
  {
   "cell_type": "code",
   "execution_count": null,
   "id": "dc95d924-ec94-4913-93da-66ec90972c6e",
   "metadata": {
    "tags": []
   },
   "outputs": [],
   "source": [
    "def test_single_element_empty_array():\n",
    "    with pytest.raises(ValueError):\n",
    "        find_single_element([])"
   ]
  },
  {
   "cell_type": "markdown",
   "id": "1a6141b7-2f71-4ff2-8dfe-55e837ee512e",
   "metadata": {},
   "source": [
    "#### b) [10%] Basierend auf den test-Fällen, schreiben Sie eine Methode welche den Task erfolgreich (und effizient) löst."
   ]
  },
  {
   "cell_type": "code",
   "execution_count": null,
   "id": "7e8a6e66-5ddd-44d5-9da7-5a29fcc6ebe1",
   "metadata": {
    "tags": []
   },
   "outputs": [],
   "source": [
    "def find_single_element(arr):\n",
    "    result = 0\n",
    "    for num in arr:\n",
    "        result ^= num\n",
    "    return result\n",
    "\n"
   ]
  },
  {
   "cell_type": "markdown",
   "id": "fe34d47b-87c5-4b09-9971-afa77a183380",
   "metadata": {},
   "source": [
    "Die Methode soll ebenfalls in eine separate Datei geschrieben werden."
   ]
  },
  {
   "cell_type": "markdown",
   "id": "4af37373-85a5-4e27-96a9-0c093f56a2c8",
   "metadata": {},
   "source": [
    "#### c) [10%] Schreiben Sie ein Docker-File welches `numpy`, `pandas`, `matplotlib` und `seaborn` installiert. "
   ]
  },
  {
   "cell_type": "code",
   "execution_count": null,
   "id": "60f1a2cb-9c49-419f-9a79-83cc5aa8f544",
   "metadata": {},
   "outputs": [],
   "source": [
    "# Verwende das offizielle Python-Image als Basis\n",
    "FROM python:3.9\n",
    "\n",
    "# Setze das Arbeitsverzeichnis im Container\n",
    "WORKDIR /app\n",
    "\n",
    "# Kopiere die Anforderungen (requirements.txt) in das Arbeitsverzeichnis\n",
    "COPY requirements.txt .\n",
    "\n",
    "# Installiere die Python-Abhängigkeiten\n",
    "RUN pip install --no-cache-dir -r requirements.txt\n",
    "\n",
    "# Kopiere den restlichen Projektcode in das Arbeitsverzeichnis\n",
    "COPY . .\n",
    "\n",
    "# Starte die Anwendung\n",
    "CMD [ \"python\", \"app.py\" ]\n"
   ]
  },
  {
   "cell_type": "markdown",
   "id": "4101f101-6a16-4308-add4-f4dc94ec8a9c",
   "metadata": {},
   "source": [
    "#### d) [15%] Schreiben Sie eine Docker-compose Datei, welche zwei verschiedene services anbietet:\n",
    "\n",
    "1. Alle Tests durchlaufen lassen\n",
    "2. Die Methode für einen gegebenen Input laufen lassen.\n",
    "\n",
    "Stellen Sie auch sicher dass der Container das Verzeichnis mit Ihren Skripten mountet, sodass Sie zugriff auf die aktuelle Version Ihres Codes haben.\n",
    "\n",
    "Demonstrieren Sie in einem Test auch dass die angegebenen Libraries aus c) erfolgreich installiert sind."
   ]
  },
  {
   "cell_type": "code",
   "execution_count": null,
   "id": "feb8fb48-b980-4e0f-8c16-1373e375c63b",
   "metadata": {},
   "outputs": [],
   "source": [
    "version: \"3\"\n",
    "services:\n",
    "  test-runner:\n",
    "    build:\n",
    "      context: .\n",
    "    volumes:\n",
    "      - .:/app\n",
    "    command: pytest\n",
    "\n",
    "  method-runner:\n",
    "    build:\n",
    "      context: .\n",
    "    volumes:\n",
    "      - .:/app\n",
    "    command: python app.py\n",
    "\n",
    "  library-checker:\n",
    "    build:\n",
    "      context: .\n",
    "    volumes:\n",
    "      - .:/app\n",
    "    command: sh -c \"pip freeze | grep numpy && pip freeze | grep pandas && pip freeze | grep matplotlib && pip freeze | grep seaborn\"\n"
   ]
  },
  {
   "cell_type": "code",
   "execution_count": null,
   "id": "e178b19c-e8e9-42ea-8666-b74df8deaafe",
   "metadata": {},
   "outputs": [],
   "source": []
  }
 ],
 "metadata": {
  "kernelspec": {
   "display_name": "Bash",
   "language": "bash",
   "name": "bash"
  },
  "language_info": {
   "codemirror_mode": "shell",
   "file_extension": ".sh",
   "mimetype": "text/x-sh",
   "name": "bash"
  }
 },
 "nbformat": 4,
 "nbformat_minor": 5
}
